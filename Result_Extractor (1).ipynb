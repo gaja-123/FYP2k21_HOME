{
  "nbformat": 4,
  "nbformat_minor": 0,
  "metadata": {
    "colab": {
      "name": "Result Extractor.ipynb",
      "provenance": [],
      "collapsed_sections": []
    },
    "kernelspec": {
      "name": "python3",
      "display_name": "Python 3"
    }
  },
  "cells": [
    {
      "cell_type": "code",
      "metadata": {
        "colab": {
          "base_uri": "https://localhost:8080/"
        },
        "id": "skliZjWQ_Rz6",
        "outputId": "516c8ec2-cb02-4c2a-9600-c101eb49abbd"
      },
      "source": [
        "from google.colab import drive\n",
        "drive.mount('/content/drive')"
      ],
      "execution_count": 1,
      "outputs": [
        {
          "output_type": "stream",
          "text": [
            "Mounted at /content/drive\n"
          ],
          "name": "stdout"
        }
      ]
    },
    {
      "cell_type": "code",
      "metadata": {
        "id": "CuPc_56t-wNk"
      },
      "source": [
        "import os\n",
        "import pandas as pd\n",
        "# Getting the current work directory (cwd)\n",
        "thisdir = '/content/drive/MyDrive/FYP/Test/Proposed'\n",
        "parameter=['# of features selected','gbest']\n",
        "ds_names=os.listdir(thisdir)\n",
        "M=['M_1','M_2','M_3','M_4','M_5','M_6','M_8','M_10']\n",
        "df_fs = pd.DataFrame(columns=M,index=ds_names)\n",
        "df_acc = pd.DataFrame(columns=M,index=ds_names)\n",
        "# r=root, d=directories, f = files\n",
        "for r, d, f in os.walk(thisdir):\n",
        "    for file in f:\n",
        "        if file.endswith(\"knn_average.csv\"):\n",
        "            path=os.path.join(r, file)\n",
        "            df=pd.read_csv(path)\n",
        "            path=path.split(\"/\")\n",
        "            for i in parameter:\n",
        "              val=df[df['Unnamed: 0']==i]['0']\n",
        "              val=float(val)\n",
        "              if i=='# of features selected':\n",
        "                df_fs.loc[path[-4],path[-2]]=val\n",
        "              if i=='gbest':\n",
        "                df_acc.loc[path[-4],path[-2]]=val\n",
        "df_fs.to_csv(thisdir+'averageFS.csv')\n",
        "df_acc.to_csv(thisdir+'averageACC.csv')"
      ],
      "execution_count": 25,
      "outputs": []
    },
    {
      "cell_type": "markdown",
      "metadata": {
        "id": "dMURXdkYYN6g"
      },
      "source": [
        "## Average"
      ]
    },
    {
      "cell_type": "code",
      "metadata": {
        "id": "xQKQsLn6XSnB"
      },
      "source": [
        "import os\n",
        "import pandas as pd\n",
        "# Getting the current work directory (cwd)\n",
        "thisdir = '/content/drive/MyDrive/FYP/Test/Proposed'\n",
        "parameter=['# of features selected','gbest']\n",
        "ds_names=os.listdir(thisdir)\n",
        "M=['M_1','M_2','M_3','M_4','M_5','M_6','M_8','M_10']\n",
        "df_fs = pd.DataFrame(columns=M,index=ds_names)\n",
        "df_acc = pd.DataFrame(columns=M,index=ds_names)\n",
        "# r=root, d=directories, f = files\n",
        "for r, d, f in os.walk(thisdir):\n",
        "    for file in f:\n",
        "        if file.endswith(\"knn_average.csv\"):\n",
        "            path=os.path.join(r, file)\n",
        "            df=pd.read_csv(path)\n",
        "            path=path.split(\"/\")\n",
        "            for i in parameter:\n",
        "              val=df[df['Unnamed: 0']==i]['0']\n",
        "              val=float(val)\n",
        "              if i=='# of features selected':\n",
        "                df_fs.loc[path[-4],path[-2]]=val\n",
        "              if i=='gbest':\n",
        "                df_acc.loc[path[-4],path[-2]]=val\n",
        "df_fs.to_csv(thisdir+'averageFS.csv')\n",
        "df_acc.to_csv(thisdir+'averageACC.csv')"
      ],
      "execution_count": null,
      "outputs": []
    },
    {
      "cell_type": "markdown",
      "metadata": {
        "id": "U6OvqHQVYPU4"
      },
      "source": [
        "## MAX"
      ]
    },
    {
      "cell_type": "code",
      "metadata": {
        "id": "dAlfixFiYQ_p"
      },
      "source": [
        "import os\n",
        "import pandas as pd\n",
        "# Getting the current work directory (cwd)\n",
        "thisdir = '/content/drive/MyDrive/FYP/Test/Proposed'\n",
        "parameter=['# of features selected','gbest']\n",
        "ds_names=os.listdir(thisdir)\n",
        "M=['M_1','M_2','M_3','M_4','M_5','M_6','M_8','M_10']\n",
        "df_fs = pd.DataFrame(columns=M,index=ds_names)\n",
        "df_acc = pd.DataFrame(columns=M,index=ds_names)\n",
        "# r=root, d=directories, f = files\n",
        "for r, d, f in os.walk(thisdir):\n",
        "    for file in f:\n",
        "        if file.endswith(\"knn.csv\"):\n",
        "            path=os.path.join(r, file)\n",
        "            df=pd.read_csv(path)\n",
        "            path=path.split(\"/\")\n",
        "            val=df.loc[df.shape[0]-1,'# of features selected']\n",
        "            val=float(val)\n",
        "            df_fs.loc[path[-4],path[-2]]=val\n",
        "            val=df.loc[df.shape[0]-1,'gbest']\n",
        "            val=float(val)\n",
        "            df_acc.loc[path[-4],path[-2]]=val      \n",
        "df_fs.to_csv(thisdir+'MAXFS.csv')\n",
        "df_acc.to_csv(thisdir+'MAXACC.csv')"
      ],
      "execution_count": 35,
      "outputs": []
    }
  ]
}